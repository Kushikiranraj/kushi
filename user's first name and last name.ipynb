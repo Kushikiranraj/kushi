{
 "cells": [
  {
   "cell_type": "code",
   "execution_count": 1,
   "id": "2d5420db",
   "metadata": {},
   "outputs": [
    {
     "name": "stdout",
     "output_type": "stream",
     "text": [
      "please enter user's first namekushi\n",
      "please enter user's last namekiranraj \n"
     ]
    },
    {
     "data": {
      "text/plain": [
       "'my name is kiranraj kushi'"
      ]
     },
     "execution_count": 1,
     "metadata": {},
     "output_type": "execute_result"
    }
   ],
   "source": [
    "a=input(\"please enter user's first name\")\n",
    "b=input(\"please enter user's last name\")\n",
    "\"my name is {}{}\".format(b,a)"
   ]
  }
 ],
 "metadata": {
  "kernelspec": {
   "display_name": "Python 3",
   "language": "python",
   "name": "python3"
  },
  "language_info": {
   "codemirror_mode": {
    "name": "ipython",
    "version": 3
   },
   "file_extension": ".py",
   "mimetype": "text/x-python",
   "name": "python",
   "nbconvert_exporter": "python",
   "pygments_lexer": "ipython3",
   "version": "3.8.8"
  }
 },
 "nbformat": 4,
 "nbformat_minor": 5
}
